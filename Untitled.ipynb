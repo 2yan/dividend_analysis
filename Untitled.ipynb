{
 "cells": [
  {
   "cell_type": "code",
   "execution_count": 9,
   "id": "6ae20a0b-b42a-4366-9861-6abd45daee81",
   "metadata": {},
   "outputs": [],
   "source": [
    "import boto3\n",
    "import json\n",
    "def get_secret():\n",
    "    client = boto3.client('secretsmanager', region_name='us-west-2')\n",
    "    return json.loads(client.get_secret_value(SecretId=\"tokens\")['SecretString'])\n",
    "\n",
    "\n",
    "alpaca_key = get_secret()['alpaca_key']\n",
    "alpaca_secret = get_secret()['alpaca_secret']"
   ]
  },
  {
   "cell_type": "code",
   "execution_count": null,
   "id": "b5605424-d0f6-488e-a276-e15bb6f41c47",
   "metadata": {},
   "outputs": [],
   "source": []
  }
 ],
 "metadata": {
  "kernelspec": {
   "display_name": "Python 3 (ipykernel)",
   "language": "python",
   "name": "python3"
  },
  "language_info": {
   "codemirror_mode": {
    "name": "ipython",
    "version": 3
   },
   "file_extension": ".py",
   "mimetype": "text/x-python",
   "name": "python",
   "nbconvert_exporter": "python",
   "pygments_lexer": "ipython3",
   "version": "3.12.3"
  }
 },
 "nbformat": 4,
 "nbformat_minor": 5
}
