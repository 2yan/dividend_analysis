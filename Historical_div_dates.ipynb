{
 "cells": [
  {
   "cell_type": "markdown",
   "id": "c877db49-f557-49f0-9bb6-a1e9004513e1",
   "metadata": {},
   "source": [
    "# Helper Functions"
   ]
  },
  {
   "cell_type": "markdown",
   "id": "6f6813f9-eb21-4886-b5cd-c974b213e935",
   "metadata": {
    "jp-MarkdownHeadingCollapsed": true
   },
   "source": [
    "## Imports"
   ]
  },
  {
   "cell_type": "code",
   "execution_count": 155,
   "id": "1daca852-8cc2-4207-8222-a80c7a95e15f",
   "metadata": {},
   "outputs": [],
   "source": [
    "import boto3\n",
    "import json\n",
    "import pytz\n",
    "import seaborn as sea\n",
    "import requests \n",
    "import mplfinance as mpf\n",
    "import pandas as pd\n",
    "from zoneinfo import ZoneInfo\n",
    "from datetime import datetime, timedelta"
   ]
  },
  {
   "cell_type": "markdown",
   "id": "9eaf5c87-77d7-485b-8168-ea6afb2f670c",
   "metadata": {
    "jp-MarkdownHeadingCollapsed": true
   },
   "source": [
    "## Credentials and dates"
   ]
  },
  {
   "cell_type": "code",
   "execution_count": 50,
   "id": "6ae20a0b-b42a-4366-9861-6abd45daee81",
   "metadata": {},
   "outputs": [],
   "source": [
    "def get_secret():\n",
    "    client = boto3.client('secretsmanager', region_name='us-west-2')\n",
    "    return json.loads(client.get_secret_value(SecretId=\"tokens\")['SecretString'])\n",
    "\n",
    "def parse_time(iso_string ):\n",
    "    utc_time = datetime.fromisoformat(iso_string.replace(\"Z\", \"+00:00\"))\n",
    "    portland_time = utc_time.astimezone(ZoneInfo(\"America/Los_Angeles\"))\n",
    "    return portland_time\n",
    "\n",
    "secret = get_secret()\n",
    "alpaca_key = secret['alpaca_key']\n",
    "alpaca_secret = secret['alpaca_secret']\n",
    "polygon_key = secret['polygon_key']"
   ]
  },
  {
   "cell_type": "markdown",
   "id": "00636425-d707-442f-b3d1-05694f7adc10",
   "metadata": {
    "jp-MarkdownHeadingCollapsed": true
   },
   "source": [
    "## Plotting"
   ]
  },
  {
   "cell_type": "code",
   "execution_count": 22,
   "id": "305a072c-9b6d-4351-954d-945850f28ed6",
   "metadata": {},
   "outputs": [],
   "source": [
    "def plot_candles(data):\n",
    "    df = pd.DataFrame(data)\n",
    "    df['t'] = pd.to_datetime(df['t'])  # Convert timestamp to pandas datetime\n",
    "    df.set_index('t', inplace=True)  # Set datetime as index\n",
    "    df = df.rename(columns={'ha_o': 'Open', 'ha_h': 'High', 'ha_l': 'Low', 'ha_c': 'Close'})  # Rename for mplfinance\n",
    "    \n",
    "    # Plot using mplfinance\n",
    "    mpf.plot(df, type='candle', style='charles', title='Heikin-Ashi Chart', ylabel='Price')\n",
    "    return "
   ]
  },
  {
   "cell_type": "markdown",
   "id": "4aff218f-ee76-4740-8fe4-231a9237cd8e",
   "metadata": {
    "jp-MarkdownHeadingCollapsed": true
   },
   "source": [
    "## Heikin Ashi"
   ]
  },
  {
   "cell_type": "code",
   "execution_count": 97,
   "id": "3224c5c3-9882-4ea4-b11e-6eee9db01f4d",
   "metadata": {},
   "outputs": [],
   "source": [
    "def calculate_heikin_ashi(data):\n",
    "\n",
    "    heikin_ashi = []\n",
    "    previous_ha_close = (data[0]['o'] + data[0]['h'] + data[0]['l'] + data[0]['c']) / 4\n",
    "    previous_ha_open = (data[0]['o'] + data[0]['c']) / 2\n",
    "\n",
    "    for candle in data:\n",
    "        ha_close = (candle['o'] + candle['h'] + candle['l'] + candle['c']) / 4\n",
    "        ha_open = (previous_ha_open + previous_ha_close) / 2\n",
    "        ha_high = max(candle['h'], ha_open, ha_close)\n",
    "        ha_low = min(candle['l'], ha_open, ha_close)\n",
    "        heikin_ashi.append({\n",
    "            't': candle['t'],\n",
    "            'ha_o': ha_open,\n",
    "            'ha_h': ha_high,\n",
    "            'ha_l': ha_low,\n",
    "            'ha_c': ha_close\n",
    "        })\n",
    "\n",
    "        previous_ha_open = ha_open\n",
    "        previous_ha_close = ha_close\n",
    "\n",
    "    return heikin_ashi"
   ]
  },
  {
   "cell_type": "markdown",
   "id": "99b180ed-5c00-4e51-aaaa-9005845c36a4",
   "metadata": {},
   "source": [
    "## Getting Data"
   ]
  },
  {
   "cell_type": "markdown",
   "id": "135f6faa-f989-4a2c-8abc-1a1b0480473b",
   "metadata": {
    "jp-MarkdownHeadingCollapsed": true
   },
   "source": [
    "### Candles"
   ]
  },
  {
   "cell_type": "code",
   "execution_count": 115,
   "id": "52b9189c-1fe6-485c-946a-88e962b84327",
   "metadata": {},
   "outputs": [],
   "source": [
    "def get_candles(ticker, date):\n",
    "    base_url = \"https://data.alpaca.markets/v2/stocks\"\n",
    "    headers = {\n",
    "        \"APCA-API-KEY-ID\": alpaca_key,\n",
    "        \"APCA-API-SECRET-KEY\": alpaca_secret\n",
    "    }\n",
    "    \n",
    "    start_time = datetime.strptime(date, \"%Y-%m-%d\")\n",
    "    end_time = start_time + timedelta(days=1)\n",
    "    today = datetime.today()  # Use UTC to match API expectations\n",
    "\n",
    "    params = {\n",
    "        \"start\": start_time.isoformat() + \"Z\",  # Format as ISO 8601\n",
    "        \"timeframe\": \"30Min\"  # Adjust timeframe as needed (e.g., \"1Min\", \"5Min\", \"1Day\")\n",
    "    }\n",
    "\n",
    "    # Add the 'end' parameter only if end_time is before today\n",
    "    if end_time < today:\n",
    "        params[\"end\"] = end_time.isoformat() + \"Z\"  # Format as ISO 8601\n",
    "\n",
    "    url = f\"{base_url}/{ticker}/bars\"\n",
    "    r = requests.get(url, headers=headers, params=params)\n",
    "    \n",
    "    if r.status_code == 200:\n",
    "        data = r.json().get('bars', [])\n",
    "        for row in data:\n",
    "            row['t'] = parse_time(row['t'])\n",
    "\n",
    "        # Define trading hours in UTC\n",
    "        trading_start = datetime.strptime(\"09:30\", \"%H:%M\").replace(tzinfo=pytz.timezone(\"US/Eastern\"))\n",
    "        trading_end = datetime.strptime(\"16:00\", \"%H:%M\").replace(tzinfo=pytz.timezone(\"US/Eastern\"))\n",
    "\n",
    "        # Filter for only regular trading hours\n",
    "        filtered_data = []\n",
    "        for row in data:\n",
    "            candle_time = row['t'].astimezone(pytz.timezone(\"US/Eastern\"))\n",
    "            if trading_start.time() <= candle_time.time() <= trading_end.time():\n",
    "                filtered_data.append(row)\n",
    "\n",
    "        return filtered_data\n",
    "    else:\n",
    "        r.raise_for_status()\n"
   ]
  },
  {
   "cell_type": "markdown",
   "id": "fd37e8cc-8cff-49e1-bc25-97a535e965bc",
   "metadata": {
    "jp-MarkdownHeadingCollapsed": true
   },
   "source": [
    "### Dividend Dates"
   ]
  },
  {
   "cell_type": "code",
   "execution_count": null,
   "id": "c1e1dfe0-aaf5-4c54-929f-9f0a15e1e5ff",
   "metadata": {},
   "outputs": [],
   "source": [
    "def get_dividend_dates(ticker):\n",
    "    url = f\"https://api.polygon.io/v3/reference/dividends?ticker={ticker}&apiKey={polygon_key}\"\n",
    "    results = []\n",
    "    \n",
    "    while url:\n",
    "        if 'apiKey' not in url:\n",
    "            url = url + f'&apiKey={polygon_key}'\n",
    "        r = requests.get(url)\n",
    "        \n",
    "        if r.status_code != 200:\n",
    "            raise Exception(f\"Failed to fetch data: {r.status_code} - {r.text}\")\n",
    "        \n",
    "        data = r.json()\n",
    "        results.extend(data.get('results', []))\n",
    "        \n",
    "        url = data.get('next_url')\n",
    "    \n",
    "    return results"
   ]
  },
  {
   "cell_type": "markdown",
   "id": "1a31b45b-5c70-4495-a717-5fbed5c9bbfb",
   "metadata": {
    "jp-MarkdownHeadingCollapsed": true
   },
   "source": [
    "### One Day Profitability (Uses Candles)"
   ]
  },
  {
   "cell_type": "code",
   "execution_count": 121,
   "id": "86e00ee8-4604-476e-925a-86837d0a23de",
   "metadata": {},
   "outputs": [],
   "source": [
    "def get_day_delta(ticker, date):\n",
    "    data  = get_candles(ticker, date)\n",
    "    return data[-1]['vw'] - data[0]['vw']\n"
   ]
  },
  {
   "cell_type": "markdown",
   "id": "6779f1ab-fb3e-4e0f-a916-56630e9aac1e",
   "metadata": {},
   "source": [
    "# Analysis"
   ]
  },
  {
   "cell_type": "code",
   "execution_count": 197,
   "id": "0e1b09d6-d22d-42dd-9548-22b1c88cd8b1",
   "metadata": {},
   "outputs": [],
   "source": [
    "ticker = 'IRS'\n",
    "divs = get_dividend_dates(ticker)"
   ]
  },
  {
   "cell_type": "markdown",
   "id": "acd61a8f-93d2-4692-a6dd-53970722e057",
   "metadata": {},
   "source": [
    "## Exit Day Cost"
   ]
  },
  {
   "cell_type": "code",
   "execution_count": 198,
   "id": "fc824fbb-af29-49a1-a620-8cec7ddae9e9",
   "metadata": {},
   "outputs": [],
   "source": [
    "for row in divs: \n",
    "    if 'profit' not in row.keys():\n",
    "        ex_div_date = row['ex_dividend_date']\n",
    "        if pd.to_datetime(ex_div_date) <= datetime.today():\n",
    "            try:\n",
    "                profit = get_day_delta(ticker, ex_div_date )\n",
    "                row['profit'] = profit\n",
    "            except Exception as e:\n",
    "                e\n",
    "                \n",
    "final  = []\n",
    "for r in divs: \n",
    "    if 'profit' in r.keys():\n",
    "        final.append(r)\n",
    "\n",
    "data = pd.DataFrame(final)"
   ]
  },
  {
   "cell_type": "code",
   "execution_count": 199,
   "id": "563d755d-a17a-4dda-86cd-c3c690ae1291",
   "metadata": {},
   "outputs": [
    {
     "data": {
      "text/plain": [
       "np.float64(1.1023141999999997)"
      ]
     },
     "execution_count": 199,
     "metadata": {},
     "output_type": "execute_result"
    }
   ],
   "source": [
    "(data['cash_amount'] - data['profit']).mean()"
   ]
  },
  {
   "cell_type": "markdown",
   "id": "cf4256f9-72be-4eef-aa35-9497b4ed18d3",
   "metadata": {},
   "source": [
    "### Exit Day + 1 Cost"
   ]
  },
  {
   "cell_type": "code",
   "execution_count": 207,
   "id": "47854b2b-6c8c-4df9-9f60-5f703fca29bd",
   "metadata": {},
   "outputs": [
    {
     "data": {
      "text/plain": [
       "np.float64(-0.34955859999999966)"
      ]
     },
     "execution_count": 207,
     "metadata": {},
     "output_type": "execute_result"
    }
   ],
   "source": [
    "data['profit'].mean()"
   ]
  }
 ],
 "metadata": {
  "kernelspec": {
   "display_name": "Python 3 (ipykernel)",
   "language": "python",
   "name": "python3"
  },
  "language_info": {
   "codemirror_mode": {
    "name": "ipython",
    "version": 3
   },
   "file_extension": ".py",
   "mimetype": "text/x-python",
   "name": "python",
   "nbconvert_exporter": "python",
   "pygments_lexer": "ipython3",
   "version": "3.12.7"
  }
 },
 "nbformat": 4,
 "nbformat_minor": 5
}
